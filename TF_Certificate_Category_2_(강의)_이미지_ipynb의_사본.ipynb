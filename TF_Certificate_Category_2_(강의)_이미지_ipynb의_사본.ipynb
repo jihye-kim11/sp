{
  "nbformat": 4,
  "nbformat_minor": 0,
  "metadata": {
    "accelerator": "GPU",
    "colab": {
      "provenance": [],
      "include_colab_link": true
    },
    "kernelspec": {
      "display_name": "Python 3",
      "language": "python",
      "name": "python3"
    },
    "language_info": {
      "codemirror_mode": {
        "name": "ipython",
        "version": 3
      },
      "file_extension": ".py",
      "mimetype": "text/x-python",
      "name": "python",
      "nbconvert_exporter": "python",
      "pygments_lexer": "ipython3",
      "version": "3.6.6"
    }
  },
  "cells": [
    {
      "cell_type": "markdown",
      "metadata": {
        "id": "view-in-github",
        "colab_type": "text"
      },
      "source": [
        "<a href=\"https://colab.research.google.com/github/jihye-kim11/sp/blob/master/TF_Certificate_Category_2_(%EA%B0%95%EC%9D%98)_%EC%9D%B4%EB%AF%B8%EC%A7%80_ipynb%EC%9D%98_%EC%82%AC%EB%B3%B8.ipynb\" target=\"_parent\"><img src=\"https://colab.research.google.com/assets/colab-badge.svg\" alt=\"Open In Colab\"/></a>"
      ]
    },
    {
      "cell_type": "markdown",
      "metadata": {
        "id": "vY-Ca0dhGTAk"
      },
      "source": [
        "# Category 2\n",
        "\n",
        "Fully Connected Layer (Dense)를 활용한 이미지 분류 (Image Classification)"
      ]
    },
    {
      "cell_type": "markdown",
      "metadata": {
        "id": "ww0hxcaSGb0m"
      },
      "source": [
        "## 확인"
      ]
    },
    {
      "cell_type": "markdown",
      "metadata": {
        "id": "FI6oK1X-GdJJ"
      },
      "source": [
        "1. GPU 옵션 켜져 있는지 확인할 것!!! (수정 - 노트설정 - 하드웨어설정 (GPU))"
      ]
    },
    {
      "cell_type": "markdown",
      "metadata": {
        "id": "1yoe-K38GQ4b"
      },
      "source": [
        "## 순서"
      ]
    },
    {
      "cell_type": "markdown",
      "metadata": {
        "id": "Bc6iTV8DGPop"
      },
      "source": [
        "1. **import**: 필요한 모듈 import\n",
        "2. **전처리**: 학습에 필요한 데이터 전처리를 수행합니다.\n",
        "3. **모델링(model)**: 모델을 정의합니다.\n",
        "4. **컴파일(compile)**: 모델을 생성합니다.\n",
        "5. **학습 (fit)**: 모델을 학습시킵니다."
      ]
    },
    {
      "cell_type": "markdown",
      "metadata": {
        "id": "msi1agesayxW"
      },
      "source": [
        "## 문제"
      ]
    },
    {
      "cell_type": "markdown",
      "metadata": {
        "id": "K2BLvK-5ayxW"
      },
      "source": [
        "Create a classifier for the Fashion MNIST dataset\n",
        "\n",
        "Note that the test will expect it to classify 10 classes and that\n",
        "\n",
        "the input shape should be the native size of the Fashion MNIST dataset which is 28x28 monochrome.\n",
        "\n",
        "Do not resize the data. Your input layer should accept\n",
        "\n",
        "(28,28) as the input shape only.\n",
        "\n",
        "If you amend this, the tests will fail."
      ]
    },
    {
      "cell_type": "markdown",
      "metadata": {
        "id": "T4eg-t_payxX"
      },
      "source": [
        "Fashion MNIST 데이터 셋에 대한 분류기 생성\n",
        "테스트는 10 개의 클래스를 분류 할 것으로 예상하고\n",
        "\n",
        "입력 모양은 Fashion MNIST 데이터 세트의 기본 크기 여야합니다.28x28 단색.\n",
        "\n",
        "데이터 크기를 조정하지 마십시오. input_shape는\n",
        "(28,28)을 입력 모양으로 만 사용합니다."
      ]
    },
    {
      "cell_type": "markdown",
      "metadata": {
        "id": "l-3xqy_ga4KO"
      },
      "source": [
        "## import 하기"
      ]
    },
    {
      "cell_type": "markdown",
      "metadata": {
        "id": "Aj9EzELCa8FN"
      },
      "source": [
        "필요한 모듈을 import 합니다."
      ]
    },
    {
      "cell_type": "code",
      "metadata": {
        "id": "G9M_SARJnil5"
      },
      "source": [
        "import numpy as np\n",
        "import matplotlib.pyplot as plt\n",
        "import tensorflow as tf\n",
        "\n",
        "from tensorflow.keras.layers import Dense, Flatten\n",
        "from tensorflow.keras.models import Sequential\n",
        "from tensorflow.keras.callbacks import ModelCheckpoint"
      ],
      "execution_count": 1,
      "outputs": []
    },
    {
      "cell_type": "markdown",
      "metadata": {
        "id": "2HGYCJ1Tnil7"
      },
      "source": [
        "## Load dataset"
      ]
    },
    {
      "cell_type": "markdown",
      "metadata": {
        "id": "Kg0sXFW2nil7"
      },
      "source": [
        "**tf.keras.datasets** 에는 다양한 샘플 데이터를 제공해줍니다."
      ]
    },
    {
      "cell_type": "markdown",
      "metadata": {
        "id": "45rVXT4tnil8"
      },
      "source": [
        "[tf.keras.datasets](https://www.tensorflow.org/api_docs/python/tf/keras/datasets)\n",
        "\n",
        "* **boston_housing**: Boston housing price regression dataset.\n",
        "\n",
        "* **cifar10**: CIFAR10 small images classification dataset.\n",
        "\n",
        "* **cifar100**: CIFAR100 small images classification dataset.\n",
        "\n",
        "* **fashion_mnist**: Fashion-MNIST dataset.\n",
        "\n",
        "* **imdb**: IMDB sentiment classification dataset.\n",
        "\n",
        "* **mnist**: MNIST handwritten digits dataset.\n",
        "\n",
        "* **reuters**: Reuters topic classification dataset."
      ]
    },
    {
      "cell_type": "code",
      "metadata": {
        "id": "nWsdj7Dgnil8"
      },
      "source": [
        "fashion_mnist = tf.keras.datasets.fashion_mnist"
      ],
      "execution_count": 2,
      "outputs": []
    },
    {
      "cell_type": "markdown",
      "metadata": {
        "id": "H05dHM_HoSYO"
      },
      "source": [
        "아래 순서가 헷갈릴 수 있습니다. 순서에 유의해 주세요."
      ]
    },
    {
      "cell_type": "code",
      "metadata": {
        "id": "JWSZUSoWnil_",
        "colab": {
          "base_uri": "https://localhost:8080/"
        },
        "outputId": "e88f9474-0eb1-441b-a190-f28946d0186e"
      },
      "source": [
        "(x_train, y_train), (x_valid, y_valid) = fashion_mnist.load_data()"
      ],
      "execution_count": 3,
      "outputs": [
        {
          "output_type": "stream",
          "name": "stdout",
          "text": [
            "Downloading data from https://storage.googleapis.com/tensorflow/tf-keras-datasets/train-labels-idx1-ubyte.gz\n",
            "29515/29515 [==============================] - 0s 1us/step\n",
            "Downloading data from https://storage.googleapis.com/tensorflow/tf-keras-datasets/train-images-idx3-ubyte.gz\n",
            "26421880/26421880 [==============================] - 2s 0us/step\n",
            "Downloading data from https://storage.googleapis.com/tensorflow/tf-keras-datasets/t10k-labels-idx1-ubyte.gz\n",
            "5148/5148 [==============================] - 0s 0us/step\n",
            "Downloading data from https://storage.googleapis.com/tensorflow/tf-keras-datasets/t10k-images-idx3-ubyte.gz\n",
            "4422102/4422102 [==============================] - 1s 0us/step\n"
          ]
        }
      ]
    },
    {
      "cell_type": "code",
      "metadata": {
        "id": "tQINRel7nimB",
        "colab": {
          "base_uri": "https://localhost:8080/"
        },
        "outputId": "7c0a2457-92d4-4523-a88c-7e488bce1069"
      },
      "source": [
        "x_train.shape, x_valid.shape  #6만장의 이미지가 28*28 바이트로 구성"
      ],
      "execution_count": 4,
      "outputs": [
        {
          "output_type": "execute_result",
          "data": {
            "text/plain": [
              "((60000, 28, 28), (10000, 28, 28))"
            ]
          },
          "metadata": {},
          "execution_count": 4
        }
      ]
    },
    {
      "cell_type": "code",
      "metadata": {
        "id": "RBAF0elZbNii",
        "colab": {
          "base_uri": "https://localhost:8080/"
        },
        "outputId": "9c2ea6bc-582a-4cf5-d63a-39cae0bd351f"
      },
      "source": [
        "y_train.shape, y_valid.shape"
      ],
      "execution_count": 5,
      "outputs": [
        {
          "output_type": "execute_result",
          "data": {
            "text/plain": [
              "((60000,), (10000,))"
            ]
          },
          "metadata": {},
          "execution_count": 5
        }
      ]
    },
    {
      "cell_type": "markdown",
      "metadata": {
        "id": "JwOpcgkRny5W"
      },
      "source": [
        "**이미지 정규화 (Normalization)**\n",
        "\n",
        "* 모든 이미지 픽셀(pixel)값들을 0~1 사이의 값으로 정규화 해 줍니다.\n",
        "* x_train, x_valid 에 대해서만 정규화합니다."
      ]
    },
    {
      "cell_type": "markdown",
      "metadata": {
        "id": "BPF65YnpO7-8"
      },
      "source": [
        "정규화(Normalization) 전의 최소값(min), 최대값(max)을 확인합니다."
      ]
    },
    {
      "cell_type": "code",
      "metadata": {
        "id": "psrsKNe7PFrn",
        "colab": {
          "base_uri": "https://localhost:8080/"
        },
        "outputId": "78b72b5a-cfaf-4b23-a188-95f2173d4ee0"
      },
      "source": [
        "x_train.min(), x_train.max()"
      ],
      "execution_count": 6,
      "outputs": [
        {
          "output_type": "execute_result",
          "data": {
            "text/plain": [
              "(0, 255)"
            ]
          },
          "metadata": {},
          "execution_count": 6
        }
      ]
    },
    {
      "cell_type": "markdown",
      "metadata": {
        "id": "MEt2ouXDPJej"
      },
      "source": [
        "정규화(Normalization) 합니다."
      ]
    },
    {
      "cell_type": "code",
      "metadata": {
        "id": "lFArqzZCntDh"
      },
      "source": [
        "x_train = x_train / 255.0\n",
        "x_valid = x_valid / 255.0"
      ],
      "execution_count": 7,
      "outputs": []
    },
    {
      "cell_type": "markdown",
      "metadata": {
        "id": "dZK1P_g4PNCy"
      },
      "source": [
        "정규화 후 최소값/최대값 확인"
      ]
    },
    {
      "cell_type": "code",
      "metadata": {
        "id": "FWJTNdezPQ2h",
        "colab": {
          "base_uri": "https://localhost:8080/"
        },
        "outputId": "e2c37c80-3749-4030-aab8-ccd4b687830c"
      },
      "source": [
        "x_train.min(), x_train.max()"
      ],
      "execution_count": 8,
      "outputs": [
        {
          "output_type": "execute_result",
          "data": {
            "text/plain": [
              "(0.0, 1.0)"
            ]
          },
          "metadata": {},
          "execution_count": 8
        }
      ]
    },
    {
      "cell_type": "markdown",
      "metadata": {
        "id": "3ROhwEP_nimE"
      },
      "source": [
        "## 샘플 데이터 Visualization"
      ]
    },
    {
      "cell_type": "code",
      "metadata": {
        "id": "NdTUcqRDnimE",
        "colab": {
          "base_uri": "https://localhost:8080/",
          "height": 475
        },
        "outputId": "f6a1853d-b85b-460e-be66-6c059fa79918"
      },
      "source": [
        "# 시각화\n",
        "fig, axes = plt.subplots(2, 5)\n",
        "fig.set_size_inches(10, 5)\n",
        "\n",
        "for i in range(10):\n",
        "    axes[i//5, i%5].imshow(x_train[i], cmap='gray')\n",
        "    axes[i//5, i%5].set_title(str(y_train[i]), fontsize=15)\n",
        "    plt.setp( axes[i//5, i%5].get_xticklabels(), visible=False)\n",
        "    plt.setp( axes[i//5, i%5].get_yticklabels(), visible=False)\n",
        "    axes[i//5, i%5].axis('off')\n",
        "\n",
        "plt.tight_layout()\n",
        "plt.show()"
      ],
      "execution_count": 9,
      "outputs": [
        {
          "output_type": "display_data",
          "data": {
            "text/plain": [
              "<Figure size 1000x500 with 10 Axes>"
            ],
            "image/png": "[encoded data removed]"
          },
          "metadata": {}
        }
      ]
    },
    {
      "cell_type": "markdown",
      "metadata": {
        "id": "jm4hXKxKbXLk"
      },
      "source": [
        "* 0: 티셔츠/탑\n",
        "* 1: 바지\n",
        "* 2: 풀오버(스웨터의 일종)\n",
        "* 3: 드레스\n",
        "* 4: 코트\n",
        "* 5: 샌들\n",
        "* 6: 셔츠\n",
        "* 7: 스니커즈\n",
        "* 8: 가방\n",
        "* 9: 앵클 부츠"
      ]
    },
    {
      "cell_type": "markdown",
      "metadata": {
        "id": "r6lRzZLGnimH"
      },
      "source": [
        "## Flatten Layer"
      ]
    },
    {
      "cell_type": "markdown",
      "metadata": {
        "id": "8US56qQKnimI"
      },
      "source": [
        "**Flatten이란?**\n",
        "\n",
        "* 고차원을 1D로 변환하여 **Dense Layer에 전달**해 주기 위하여 사용합니다.\n",
        "* 28 X 28 의 **2D**로 되어 있는 이미지를 784로 **1D로 펼쳐 주는 작업**입니다."
      ]
    },
    {
      "cell_type": "markdown",
      "metadata": {
        "id": "G3vxGKQFcIM1"
      },
      "source": [
        "**변환 전**"
      ]
    },
    {
      "cell_type": "code",
      "metadata": {
        "id": "T9zXLgI2nimI",
        "colab": {
          "base_uri": "https://localhost:8080/"
        },
        "outputId": "67c5500d-0b4c-480d-9e37-946978376f7f"
      },
      "source": [
        "x_train.shape"
      ],
      "execution_count": 10,
      "outputs": [
        {
          "output_type": "execute_result",
          "data": {
            "text/plain": [
              "(60000, 28, 28)"
            ]
          },
          "metadata": {},
          "execution_count": 10
        }
      ]
    },
    {
      "cell_type": "markdown",
      "metadata": {
        "id": "6fWhekBScMtW"
      },
      "source": [
        "**Flatten 적용 후**"
      ]
    },
    {
      "cell_type": "code",
      "metadata": {
        "id": "68jpK460nimL",
        "colab": {
          "base_uri": "https://localhost:8080/"
        },
        "outputId": "e19f8209-7413-4055-d4f7-cb8852041276"
      },
      "source": [
        "x = Flatten(input_shape=(28, 28))\n",
        "print(x(x_train).shape)"
      ],
      "execution_count": 11,
      "outputs": [
        {
          "output_type": "stream",
          "name": "stdout",
          "text": [
            "(60000, 784)\n"
          ]
        }
      ]
    },
    {
      "cell_type": "markdown",
      "metadata": {
        "id": "lrNFGpU4nimZ"
      },
      "source": [
        "## 활성함수 (relu, sigmoid, softmax)"
      ]
    },
    {
      "cell_type": "code",
      "metadata": {
        "id": "ZHztkvVXcfJs"
      },
      "source": [
        "from IPython.display import Image\n",
        "import numpy as np\n",
        "import matplotlib.pyplot as plt"
      ],
      "execution_count": 12,
      "outputs": []
    },
    {
      "cell_type": "markdown",
      "metadata": {
        "id": "G-imd0h5fcJ-"
      },
      "source": [
        "### relu"
      ]
    },
    {
      "cell_type": "code",
      "metadata": {
        "id": "bp6jZrlenimc"
      },
      "source": [
        "def relu(x):\n",
        "    return np.maximum(x, 0)"
      ],
      "execution_count": 13,
      "outputs": []
    },
    {
      "cell_type": "code",
      "metadata": {
        "id": "DKy6nS3pnime"
      },
      "source": [
        "x = np.linspace(-10, 10)\n",
        "y = relu(x)"
      ],
      "execution_count": 14,
      "outputs": []
    },
    {
      "cell_type": "code",
      "metadata": {
        "id": "cbEbU8wKnimh",
        "colab": {
          "base_uri": "https://localhost:8080/",
          "height": 622
        },
        "outputId": "d528767d-d65e-4bbe-e6a1-ec3349027f49"
      },
      "source": [
        "plt.figure(figsize=(10, 7))\n",
        "plt.plot(x, y)\n",
        "plt.title('ReLU activation function')\n",
        "plt.show()"
      ],
      "execution_count": 15,
      "outputs": [
        {
          "output_type": "display_data",
          "data": {
            "text/plain": [
              "<Figure size 1000x700 with 1 Axes>"
            ],
            "image/png": "[encoded data removed]"
          },
          "metadata": {}
        }
      ]
    },
    {
      "cell_type": "markdown",
      "metadata": {
        "id": "scB0bIEOnimj"
      },
      "source": [
        "**Dense Layer에 ReLU activation 적용**"
      ]
    },
    {
      "cell_type": "code",
      "metadata": {
        "id": "J-h1CkySnimk",
        "colab": {
          "base_uri": "https://localhost:8080/"
        },
        "outputId": "85da566c-4bdb-4fa6-9e96-463871764c65"
      },
      "source": [
        "Dense(20, activation='relu')"
      ],
      "execution_count": 16,
      "outputs": [
        {
          "output_type": "execute_result",
          "data": {
            "text/plain": [
              "<keras.layers.core.dense.Dense at 0x7db720ecfa60>"
            ]
          },
          "metadata": {},
          "execution_count": 16
        }
      ]
    },
    {
      "cell_type": "markdown",
      "metadata": {
        "id": "IMI3Z9C7fIrf"
      },
      "source": [
        "### Sigmoid\n"
      ]
    },
    {
      "cell_type": "markdown",
      "metadata": {
        "id": "7ZINPMe4f6YG"
      },
      "source": [
        "\n",
        "\n",
        "$\\displaystyle s(z) = \\frac{1}{1+e^{-z}}$\n",
        "\n",
        "$z$ 값을 0과 1사이의 값으로 바꾸는 함수\n",
        "\n",
        "**Sigmoid 함수 원리**\n",
        "\n",
        "$\\frac{1}{1} = 1$인데, 분모 1에다 0보다 크거나 같은 어떤 수를 더 하면 그 결과는 1 보다 클수 없다.\n",
        "\n",
        "분모에 더 할 값은 $e^{-z}$, 이 값은 어떤 $z$가 주어져도 0보다 작아 지지 않는다.\n",
        "\n",
        "$e^{-z}$는 $z$의 값이 크면 클 수록 0에 가까운 작은 수가 되고 $z$값이 작으면 무한대에 가까운 큰 수가 된다\n",
        "\n",
        "따라서 $z$의 값이 크면 $e^{-z}$의 값이 작아져서 $\\frac{1}{1+e^{-z}}$의 값은 1에 가까워 지고 그 반대는 0에 가까워 진다.\n"
      ]
    },
    {
      "cell_type": "code",
      "metadata": {
        "id": "JRvVtsCdiPxT"
      },
      "source": [
        "def sigmoid(z):\n",
        "    return  1/(1+np.exp(-z))"
      ],
      "execution_count": 17,
      "outputs": []
    },
    {
      "cell_type": "code",
      "metadata": {
        "id": "O0obfqMxiOuN",
        "colab": {
          "base_uri": "https://localhost:8080/",
          "height": 599
        },
        "outputId": "fa35bc77-8a0b-4ce8-a48f-7a9115630681"
      },
      "source": [
        "plt.figure(figsize=(10, 7))\n",
        "\n",
        "x = np.arange(-10, 10)\n",
        "y = sigmoid(x)\n",
        "\n",
        "plt.plot(x, y)\n",
        "plt.show()"
      ],
      "execution_count": 18,
      "outputs": [
        {
          "output_type": "display_data",
          "data": {
            "text/plain": [
              "<Figure size 1000x700 with 1 Axes>"
            ],
            "image/png": "[encoded data removed]"
          },
          "metadata": {}
        }
      ]
    },
    {
      "cell_type": "markdown",
      "metadata": {
        "id": "WS9NPzGPnimm"
      },
      "source": [
        "### Softmax"
      ]
    },
    {
      "cell_type": "markdown",
      "metadata": {
        "id": "MIeuj7rac4XU"
      },
      "source": [
        "뉴런의 출력값에 대하여 class 분류를 위하여 마지막 단계에서 출력값에 대한 정규화를 해주는 함수이다."
      ]
    },
    {
      "cell_type": "markdown",
      "metadata": {
        "id": "_ij5kTRgc7Fv"
      },
      "source": [
        "사진속 인물이 지금 슬픈 표정인지, 웃는 표정인지, 화난 표정인지 확률적으로 수치화한다고 했을때,\n",
        "\n",
        "슬픔 (11%), 웃음 (29%), 화남(60%) 화같이 확률적 classification 을 할 때 용이하다.\n",
        "\n",
        "소프트맥스 함수의 특징은 **확률의 합은 언제나 1.0** 이다."
      ]
    },
    {
      "cell_type": "code",
      "metadata": {
        "id": "vi-7nWiGnimo",
        "colab": {
          "base_uri": "https://localhost:8080/",
          "height": 147
        },
        "outputId": "4f495b88-00a0-442d-edd6-e43652379ea1"
      },
      "source": [
        "Image('https://i.stack.imgur.com/wxJKQ.jpg')"
      ],
      "execution_count": 19,
      "outputs": [
        {
          "output_type": "execute_result",
          "data": {
            "image/jpeg": "[encoded data removed]",
            "text/plain": [
              "<IPython.core.display.Image object>"
            ]
          },
          "metadata": {},
          "execution_count": 19
        }
      ]
    },
    {
      "cell_type": "code",
      "metadata": {
        "id": "yrb1_CwmdKVs",
        "colab": {
          "base_uri": "https://localhost:8080/"
        },
        "outputId": "7196a7a6-8b67-4a74-ff0d-bf5f657e2439"
      },
      "source": [
        "import numpy as np\n",
        "\n",
        "a = np.random.uniform(low=0.0, high=10.0, size=3)\n",
        "\n",
        "def softmax(a) :\n",
        "    exp_a = np.exp(a)\n",
        "    sum_exp_a = np.sum(exp_a)\n",
        "    y = exp_a / sum_exp_a\n",
        "    return y\n",
        "\n",
        "y = softmax(a)\n",
        "print('Class 별 확률 값 출력')\n",
        "print('===' * 10)\n",
        "for i in range(3):\n",
        "    print('Class {} 의 확률: {:.3f}'.format(i, y[i]))\n",
        "print('===' * 10)\n",
        "print('Class 별 확률 값의 합: {:.1f}'.format(y.sum()))"
      ],
      "execution_count": 22,
      "outputs": [
        {
          "output_type": "stream",
          "name": "stdout",
          "text": [
            "Class 별 확률 값 출력\n",
            "==============================\n",
            "Class 0 의 확률: 0.003\n",
            "Class 1 의 확률: 0.788\n",
            "Class 2 의 확률: 0.209\n",
            "==============================\n",
            "Class 별 확률 값의 합: 1.0\n"
          ]
        }
      ]
    },
    {
      "cell_type": "markdown",
      "metadata": {
        "id": "09ief1f7dWTo"
      },
      "source": [
        "다중분류의 맨 마지막 출력층 활성함수로는 Dense layer에 'softmax'를 적용합니다.\n",
        "\n",
        "* 단, Dense 레이어의 unit이 2보다 크거나 같은 경우에만 해당합니다. (만약, 1이라면 'sigmoid'를 활성함수로 설정합니다)"
      ]
    },
    {
      "cell_type": "code",
      "metadata": {
        "id": "8KldDsW4nim2",
        "colab": {
          "base_uri": "https://localhost:8080/"
        },
        "outputId": "94fb354b-799a-4677-c550-8a418ff8e442"
      },
      "source": [
        "Dense(10, activation='softmax')"
      ],
      "execution_count": 23,
      "outputs": [
        {
          "output_type": "execute_result",
          "data": {
            "text/plain": [
              "<keras.layers.core.dense.Dense at 0x7db720dfeec0>"
            ]
          },
          "metadata": {},
          "execution_count": 23
        }
      ]
    },
    {
      "cell_type": "markdown",
      "metadata": {
        "id": "D6B3UzpUnim4"
      },
      "source": [
        "## 모델 정의 (Sequential)"
      ]
    },
    {
      "cell_type": "markdown",
      "metadata": {
        "id": "azRvYVbQnim5"
      },
      "source": [
        "이제 Modeling을 할 차례입니다.\n",
        "\n",
        "`Sequential` 모델 안에서 층을 깊게 쌓아 올려 주면 됩니다.\n",
        "\n",
        "1. Dense 레이어는 2D 형태의 데이터를 받아들이지 못합니다. Flatten 레이어로 2D -> 1D로 변환해주세요\n",
        "2. 깊은 출력층과 더 많은 Layer를 쌓습니다.\n",
        "3. Dense Layer에 `activation='relu'`를 적용합니다.\n",
        "4. 분류(Classification)의 마지막 층의 출력 숫자는 분류하고자 하는 클래스 갯수와 **같아야** 합니다.\n"
      ]
    },
    {
      "cell_type": "markdown",
      "source": [
        "#이진분류 case\n",
        "\n",
        "##1\n",
        "sigmoid: x의 값에 따라 0~1의 값을 출력하는 S자형 함수이다\n",
        "Dense(1, activation='sigmoid')  <- 절대 바꾸면 안되는 코드\n",
        "loss='binary_crossentropy'\n",
        "\n",
        "##2\n",
        "Dense(2, activation='softmax')   <- 절대 바꾸면 안되는 코드\n",
        "loss='categorical_crossentropy'\n",
        "\n",
        "![image.png](data:image/png;base64,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)"
      ],
      "metadata": {
        "id": "jjGSRARH_OiR"
      }
    },
    {
      "cell_type": "code",
      "metadata": {
        "id": "PCDinGHSnim5"
      },
      "source": [
        "model = Sequential([\n",
        "    # Flatten으로 shape 펼치기\n",
        "    Flatten(input_shape=(28, 28)),\n",
        "    # Dense Layer\n",
        "    Dense(1024, activation='relu'),\n",
        "    Dense(512, activation='relu'),\n",
        "    Dense(256, activation='relu'),\n",
        "    Dense(128, activation='relu'),\n",
        "    Dense(64, activation='relu'),\n",
        "    # Classification을 위한 Softmax\n",
        "    Dense(10, activation='softmax'), #클래스 10개 분류하는 중이므로\n",
        "])"
      ],
      "execution_count": 24,
      "outputs": []
    },
    {
      "cell_type": "code",
      "metadata": {
        "id": "5u4rp7tB-4A1",
        "colab": {
          "base_uri": "https://localhost:8080/"
        },
        "outputId": "89d153b9-791e-4062-e114-085ff721f8b3"
      },
      "source": [
        "model.summary()"
      ],
      "execution_count": 25,
      "outputs": [
        {
          "output_type": "stream",
          "name": "stdout",
          "text": [
            "Model: \"sequential\"\n",
            "_________________________________________________________________\n",
            " Layer (type)                Output Shape              Param #   \n",
            "=================================================================\n",
            " flatten_1 (Flatten)         (None, 784)               0         \n",
            "                                                                 \n",
            " dense_3 (Dense)             (None, 1024)              803840    \n",
            "                                                                 \n",
            " dense_4 (Dense)             (None, 512)               524800    \n",
            "                                                                 \n",
            " dense_5 (Dense)             (None, 256)               131328    \n",
            "                                                                 \n",
            " dense_6 (Dense)             (None, 128)               32896     \n",
            "                                                                 \n",
            " dense_7 (Dense)             (None, 64)                8256      \n",
            "                                                                 \n",
            " dense_8 (Dense)             (None, 10)                650       \n",
            "                                                                 \n",
            "=================================================================\n",
            "Total params: 1,501,770\n",
            "Trainable params: 1,501,770\n",
            "Non-trainable params: 0\n",
            "_________________________________________________________________\n"
          ]
        }
      ]
    },
    {
      "cell_type": "markdown",
      "metadata": {
        "id": "wnmQV-fDnim8"
      },
      "source": [
        "## 컴파일 (compile)"
      ]
    },
    {
      "cell_type": "markdown",
      "metadata": {
        "id": "pHQ1abHXK8e9"
      },
      "source": [
        "1. `optimizer`는 가장 최적화가 잘되는 알고리즘인 'adam'을 사용합니다.\n",
        "2. `loss`설정\n",
        "  * 출력층 activation이 `sigmoid` 인 경우: `binary_crossentropy`\n",
        "  * 출력층 activation이 `softmax` 인 경우:\n",
        "    * 원핫인코딩(O): `categorical_crossentropy`\n",
        "    * 원핫인코딩(X): `sparse_categorical_crossentropy`)\n",
        "3. `metrics`를 'acc' 혹은 'accuracy'로 지정하면, 학습시 정확도를 모니터링 할 수 있습니다."
      ]
    },
    {
      "cell_type": "markdown",
      "metadata": {
        "id": "QIhoCbT7ggE6"
      },
      "source": [
        "**원핫인코딩 여부 체크방법**"
      ]
    },
    {
      "cell_type": "markdown",
      "metadata": {
        "id": "fy8ubEBUhSWc"
      },
      "source": [
        "케이스 1: 원핫인코딩 (X)"
      ]
    },
    {
      "cell_type": "code",
      "metadata": {
        "id": "Yv2PHWQ2_C8N",
        "colab": {
          "base_uri": "https://localhost:8080/"
        },
        "outputId": "ffda58b9-a899-443a-88ce-d0c3565a9201"
      },
      "source": [
        "y_train[0]"
      ],
      "execution_count": 26,
      "outputs": [
        {
          "output_type": "execute_result",
          "data": {
            "text/plain": [
              "9"
            ]
          },
          "metadata": {},
          "execution_count": 26
        }
      ]
    },
    {
      "cell_type": "markdown",
      "metadata": {
        "id": "Bdn3dV7whepf"
      },
      "source": [
        "케이스 2: 원핫인코딩 (O)"
      ]
    },
    {
      "cell_type": "code",
      "metadata": {
        "id": "0oxwTCpbhVJF"
      },
      "source": [
        "print(tf.one_hot(y_train[0], 10))"
      ],
      "execution_count": null,
      "outputs": []
    },
    {
      "cell_type": "markdown",
      "metadata": {
        "id": "eXGMljJQhmp_"
      },
      "source": [
        "model.compile()"
      ]
    },
    {
      "cell_type": "code",
      "metadata": {
        "id": "QCLw6RMZnim-"
      },
      "source": [
        "model.compile(optimizer='adam', loss='sparse_categorical_crossentropy', metrics=['acc'])"
      ],
      "execution_count": null,
      "outputs": []
    },
    {
      "cell_type": "markdown",
      "metadata": {
        "id": "NyLUPgGCninB"
      },
      "source": [
        "## ModelCheckpoint: 체크포인트 생성"
      ]
    },
    {
      "cell_type": "markdown",
      "metadata": {
        "id": "46Oi04ZMLtEB"
      },
      "source": [
        "`val_loss` 기준으로 epoch 마다 최적의 모델을 저장하기 위하여, ModelCheckpoint를 만듭니다.\n",
        "* `checkpoint_path`는 모델이 저장될 파일 명을 설정합니다.\n",
        "* `ModelCheckpoint`을 선언하고, 적절한 옵션 값을 지정합니다."
      ]
    },
    {
      "cell_type": "code",
      "metadata": {
        "id": "qJwGq3PoninB"
      },
      "source": [
        "checkpoint_path = \"my_checkpoint.ckpt\"\n",
        "checkpoint = ModelCheckpoint(filepath=checkpoint_path,\n",
        "                             save_weights_only=True,\n",
        "                             save_best_only=True,\n",
        "                             monitor='val_loss',\n",
        "                             verbose=1)"
      ],
      "execution_count": null,
      "outputs": []
    },
    {
      "cell_type": "markdown",
      "metadata": {
        "id": "v3mjb5EAninE"
      },
      "source": [
        "## 학습 (fit)"
      ]
    },
    {
      "cell_type": "markdown",
      "metadata": {
        "id": "3-X6hK_DMYZH"
      },
      "source": [
        "1. `validation_data`를 반드시 지정합니다.\n",
        "2. `epochs`을 적절하게 지정합니다.\n",
        "3. `callbacks`에 바로 위에서 만든 checkpoint를 지정합니다."
      ]
    },
    {
      "cell_type": "code",
      "metadata": {
        "id": "2uHXDA_vninF"
      },
      "source": [
        "history = model.fit(x_train, y_train,\n",
        "                    validation_data=(x_valid, y_valid),\n",
        "                    epochs=20,\n",
        "                    callbacks=[checkpoint],\n",
        "                   )"
      ],
      "execution_count": null,
      "outputs": []
    },
    {
      "cell_type": "markdown",
      "metadata": {
        "id": "wwnduSgRiBw8"
      },
      "source": [
        "## 학습 완료 후 Load Weights (ModelCheckpoint)"
      ]
    },
    {
      "cell_type": "markdown",
      "metadata": {
        "id": "kLqb_6XrMvdq"
      },
      "source": [
        "학습이 완료된 후에는 반드시 `load_weights`를 해주어야 합니다.\n",
        "\n",
        "그렇지 않으면, 열심히 ModelCheckpoint를 만든 의미가 없습니다."
      ]
    },
    {
      "cell_type": "code",
      "metadata": {
        "id": "4jO1ucZ9ninH"
      },
      "source": [
        "# checkpoint 를 저장한 파일명을 입력합니다.\n",
        "model.load_weights(checkpoint_path)"
      ],
      "execution_count": null,
      "outputs": []
    },
    {
      "cell_type": "markdown",
      "metadata": {
        "id": "3nVIYnIuPaPR"
      },
      "source": [
        "## 학습한 후 검증하고 싶다면?"
      ]
    },
    {
      "cell_type": "code",
      "metadata": {
        "id": "lxt8cK6pPdmb"
      },
      "source": [
        "model.evaluate(x_valid, y_valid)"
      ],
      "execution_count": null,
      "outputs": []
    },
    {
      "cell_type": "markdown",
      "metadata": {
        "id": "95cG8SGdninJ"
      },
      "source": [
        "## 학습 Loss (오차)에 대한 시각화"
      ]
    },
    {
      "cell_type": "code",
      "metadata": {
        "id": "y_xoc7AlninJ"
      },
      "source": [
        "plt.figure(figsize=(12, 9))\n",
        "plt.plot(np.arange(1, 21), history.history['loss'])\n",
        "plt.plot(np.arange(1, 21), history.history['val_loss'])\n",
        "plt.title('Loss / Val Loss', fontsize=20)\n",
        "plt.xlabel('Epochs')\n",
        "plt.ylabel('Loss')\n",
        "plt.legend(['loss', 'val_loss'], fontsize=15)\n",
        "plt.show()"
      ],
      "execution_count": null,
      "outputs": []
    },
    {
      "cell_type": "code",
      "metadata": {
        "id": "2iSgnD3fninN"
      },
      "source": [
        "plt.figure(figsize=(12, 9))\n",
        "plt.plot(np.arange(1, 21), history.history['acc'])\n",
        "plt.plot(np.arange(1, 21), history.history['val_acc'])\n",
        "plt.title('Acc / Val Acc', fontsize=20)\n",
        "plt.xlabel('Epochs')\n",
        "plt.ylabel('Acc')\n",
        "plt.legend(['acc', 'val_acc'], fontsize=15)\n",
        "plt.show()"
      ],
      "execution_count": null,
      "outputs": []
    }
  ]
}